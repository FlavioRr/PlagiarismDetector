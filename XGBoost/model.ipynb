{
 "cells": [
  {
   "cell_type": "code",
   "execution_count": 1,
   "metadata": {},
   "outputs": [],
   "source": [
    "import javalang\n",
    "import xgboost as xgb\n",
    "from sklearn.feature_extraction.text import TfidfVectorizer"
   ]
  },
  {
   "cell_type": "code",
   "execution_count": null,
   "metadata": {},
   "outputs": [],
   "source": [
    "def extract_tokens(file_content):\n",
    "    tokens = list(javalang.tokenizer.tokenize(file_content))\n",
    "    token_types = [type(token).__name__ for token in tokens]\n",
    "    return token_types"
   ]
  },
  {
   "cell_type": "code",
   "execution_count": null,
   "metadata": {},
   "outputs": [],
   "source": [
    "# Read and tokenize files\n",
    "def read_and_tokenize(files):\n",
    "    token_lists = []\n",
    "    for file in files:\n",
    "        with open(file, 'r') as f:\n",
    "            content = f.read()\n",
    "            tokens = extract_tokens(content)\n",
    "            token_lists.append(tokens)\n",
    "    return token_lists"
   ]
  },
  {
   "cell_type": "code",
   "execution_count": null,
   "metadata": {},
   "outputs": [],
   "source": [
    "\n",
    "train_tokens = read_and_tokenize(train_files)\n",
    "test_tokens = read_and_tokenize(test_files)"
   ]
  }
 ],
 "metadata": {
  "kernelspec": {
   "display_name": "Python 3",
   "language": "python",
   "name": "python3"
  },
  "language_info": {
   "codemirror_mode": {
    "name": "ipython",
    "version": 3
   },
   "file_extension": ".py",
   "mimetype": "text/x-python",
   "name": "python",
   "nbconvert_exporter": "python",
   "pygments_lexer": "ipython3",
   "version": "3.12.3"
  }
 },
 "nbformat": 4,
 "nbformat_minor": 2
}
