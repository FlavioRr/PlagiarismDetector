{
 "cells": [
  {
   "cell_type": "code",
   "execution_count": 1,
   "metadata": {},
   "outputs": [
    {
     "name": "stdout",
     "output_type": "stream",
     "text": [
      "Requirement already satisfied: javalang in c:\\users\\flavio ruvalcaba\\appdata\\local\\packages\\pythonsoftwarefoundation.python.3.11_qbz5n2kfra8p0\\localcache\\local-packages\\python311\\site-packages (0.13.0)\n",
      "Requirement already satisfied: six in c:\\users\\flavio ruvalcaba\\appdata\\local\\packages\\pythonsoftwarefoundation.python.3.11_qbz5n2kfra8p0\\localcache\\local-packages\\python311\\site-packages (from javalang) (1.16.0)\n"
     ]
    },
    {
     "name": "stderr",
     "output_type": "stream",
     "text": [
      "\n",
      "[notice] A new release of pip is available: 23.2.1 -> 24.0\n",
      "[notice] To update, run: C:\\Users\\Flavio Ruvalcaba\\AppData\\Local\\Microsoft\\WindowsApps\\PythonSoftwareFoundation.Python.3.11_qbz5n2kfra8p0\\python.exe -m pip install --upgrade pip\n"
     ]
    }
   ],
   "source": [
    "!pip install javalang"
   ]
  },
  {
   "cell_type": "code",
   "execution_count": 2,
   "metadata": {},
   "outputs": [],
   "source": [
    "import os\n",
    "import javalang\n",
    "from sklearn.feature_extraction.text import TfidfVectorizer\n",
    "import joblib"
   ]
  },
  {
   "cell_type": "code",
   "execution_count": 3,
   "metadata": {},
   "outputs": [],
   "source": [
    "# Función para leer archivos de un directorio\n",
    "def read_files_from_directory(directory):\n",
    "    files_content = []\n",
    "    for filename in os.listdir(directory):\n",
    "        if filename.endswith(\".java\"):\n",
    "            with open(os.path.join(directory, filename), 'r', encoding='utf-8') as file:\n",
    "                files_content.append(file.read())\n",
    "    return files_content"
   ]
  },
  {
   "cell_type": "code",
   "execution_count": 4,
   "metadata": {},
   "outputs": [],
   "source": [
    "# Función para generar AST y vectorizar\n",
    "def generate_ast_vectors(files_content):\n",
    "    vectors = []\n",
    "    errors = []\n",
    "    for idx, content in enumerate(files_content):\n",
    "        try:\n",
    "            tokens = list(javalang.tokenizer.tokenize(content))\n",
    "            parser = javalang.parser.Parser(tokens)\n",
    "            ast = parser.parse()\n",
    "            vector = vectorize_ast(ast)\n",
    "            vectors.append(vector)\n",
    "        except javalang.tokenizer.LexerError as e:\n",
    "            print(f\"LexerError in file {idx}: {e}\")\n",
    "            errors.append((idx, content))\n",
    "        except javalang.parser.JavaSyntaxError as e:\n",
    "            print(f\"JavaSyntaxError in file {idx}: {e}\")\n",
    "            errors.append((idx, content))\n",
    "    return vectors, errors"
   ]
  },
  {
   "cell_type": "code",
   "execution_count": 5,
   "metadata": {},
   "outputs": [],
   "source": [
    "# Función para vectorizar AST (simplificado para el ejemplo)\n",
    "def vectorize_ast(ast):\n",
    "    vector = []\n",
    "    for path, node in ast:\n",
    "        vector.append(type(node).__name__)\n",
    "    return \" \".join(vector)"
   ]
  },
  {
   "cell_type": "code",
   "execution_count": 6,
   "metadata": {},
   "outputs": [],
   "source": [
    "# Función principal para cargar datos y generar vectores\n",
    "def load_data_and_generate_vectors(base_dir):\n",
    "    categories = ['noplag', 'plagio']\n",
    "    data = {}\n",
    "    for category in categories:\n",
    "        data[category] = []\n",
    "        for phase in ['train', 'test', 'validation']:\n",
    "            path = os.path.join(base_dir, phase, category)\n",
    "            data[category] += read_files_from_directory(path)\n",
    "    return data"
   ]
  },
  {
   "cell_type": "code",
   "execution_count": 7,
   "metadata": {},
   "outputs": [
    {
     "name": "stdout",
     "output_type": "stream",
     "text": [
      "Total files with errors: 0\n"
     ]
    }
   ],
   "source": [
    "# Ruta base del dataset\n",
    "base_dir = 'C:/Users/Flavio Ruvalcaba/Documents/Escuela/Universidad/8Semestre/PlagiarismDetector/finalDataset/split/'\n",
    "\n",
    "# Cargar y vectorizar datos\n",
    "data = load_data_and_generate_vectors(base_dir)\n",
    "\n",
    "# Combinar y vectorizar datos para clustering\n",
    "all_files_content = data['noplag'] + data['plagio']\n",
    "vectors, errors = generate_ast_vectors(all_files_content)\n",
    "\n",
    "# Vectorizar utilizando TF-IDF\n",
    "vectorizer = TfidfVectorizer()\n",
    "X = vectorizer.fit_transform(vectors)\n",
    "\n",
    "# Guardar los vectores, el vectorizador y el contenido de los archivos\n",
    "joblib.dump(X, 'data_vectors.pkl')\n",
    "joblib.dump(vectorizer, 'tfidf_vectorizer.pkl')\n",
    "joblib.dump(all_files_content, 'all_files_content.pkl')\n",
    "\n",
    "# Imprimir resumen de errores\n",
    "print(f\"Total files with errors: {len(errors)}\")\n",
    "for error in errors:\n",
    "    print(error[0], error[1][:100])  # Mostrar el índice y los primeros 100 caracteres del contenido problemático"
   ]
  }
 ],
 "metadata": {
  "kernelspec": {
   "display_name": "Python 3",
   "language": "python",
   "name": "python3"
  },
  "language_info": {
   "codemirror_mode": {
    "name": "ipython",
    "version": 3
   },
   "file_extension": ".py",
   "mimetype": "text/x-python",
   "name": "python",
   "nbconvert_exporter": "python",
   "pygments_lexer": "ipython3",
   "version": "3.11.9"
  }
 },
 "nbformat": 4,
 "nbformat_minor": 2
}
