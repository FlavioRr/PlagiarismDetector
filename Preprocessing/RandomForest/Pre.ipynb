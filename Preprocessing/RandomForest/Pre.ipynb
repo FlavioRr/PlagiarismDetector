{
 "cells": [
  {
   "cell_type": "code",
   "execution_count": 1,
   "metadata": {},
   "outputs": [
    {
     "name": "stdout",
     "output_type": "stream",
     "text": [
      "Requirement already satisfied: gensim in c:\\users\\flavio ruvalcaba\\appdata\\local\\packages\\pythonsoftwarefoundation.python.3.11_qbz5n2kfra8p0\\localcache\\local-packages\\python311\\site-packages (4.3.2)\n",
      "Requirement already satisfied: numpy>=1.18.5 in c:\\users\\flavio ruvalcaba\\appdata\\local\\packages\\pythonsoftwarefoundation.python.3.11_qbz5n2kfra8p0\\localcache\\local-packages\\python311\\site-packages (from gensim) (1.24.3)\n",
      "Requirement already satisfied: scipy>=1.7.0 in c:\\users\\flavio ruvalcaba\\appdata\\local\\packages\\pythonsoftwarefoundation.python.3.11_qbz5n2kfra8p0\\localcache\\local-packages\\python311\\site-packages (from gensim) (1.11.2)\n",
      "Requirement already satisfied: smart-open>=1.8.1 in c:\\users\\flavio ruvalcaba\\appdata\\local\\packages\\pythonsoftwarefoundation.python.3.11_qbz5n2kfra8p0\\localcache\\local-packages\\python311\\site-packages (from gensim) (7.0.4)\n",
      "Requirement already satisfied: wrapt in c:\\users\\flavio ruvalcaba\\appdata\\local\\packages\\pythonsoftwarefoundation.python.3.11_qbz5n2kfra8p0\\localcache\\local-packages\\python311\\site-packages (from smart-open>=1.8.1->gensim) (1.15.0)\n"
     ]
    },
    {
     "name": "stderr",
     "output_type": "stream",
     "text": [
      "\n",
      "[notice] A new release of pip is available: 23.2.1 -> 24.0\n",
      "[notice] To update, run: C:\\Users\\Flavio Ruvalcaba\\AppData\\Local\\Microsoft\\WindowsApps\\PythonSoftwareFoundation.Python.3.11_qbz5n2kfra8p0\\python.exe -m pip install --upgrade pip\n"
     ]
    }
   ],
   "source": [
    "!pip install gensim"
   ]
  },
  {
   "cell_type": "code",
   "execution_count": 2,
   "metadata": {},
   "outputs": [],
   "source": [
    "import os\n",
    "import re\n",
    "import joblib\n",
    "#pip install gensim\n",
    "from gensim.models.doc2vec import Doc2Vec, TaggedDocument\n"
   ]
  },
  {
   "cell_type": "code",
   "execution_count": 3,
   "metadata": {},
   "outputs": [],
   "source": [
    "def load_files_from_directory(directory):\n",
    "    files = []\n",
    "    labels = []\n",
    "    filenames = []\n",
    "    for root, _, filenames in os.walk(directory):\n",
    "        for filename in filenames:\n",
    "            with open(os.path.join(root, filename), 'r', encoding='utf-8') as f:\n",
    "                code = f.read()\n",
    "                # Eliminar comentarios\n",
    "                code = re.sub(r'//.*|/\\*[\\s\\S]*?\\*/', '', code)\n",
    "                # Normalizar nombres de variables (esto puede ser más complejo dependiendo del lenguaje)\n",
    "                code = re.sub(r'\\b[_a-zA-Z][_a-zA-Z0-9]*\\b', 'VAR', code)\n",
    "                files.append(code)\n",
    "                filenames.append(filename)\n",
    "                if 'plagio' in root:\n",
    "                    labels.append(1)\n",
    "                else:\n",
    "                    labels.append(0)\n",
    "    return files, labels, filenames"
   ]
  },
  {
   "cell_type": "code",
   "execution_count": 4,
   "metadata": {},
   "outputs": [
    {
     "ename": "MemoryError",
     "evalue": "",
     "output_type": "error",
     "traceback": [
      "\u001b[1;31m---------------------------------------------------------------------------\u001b[0m",
      "\u001b[1;31mMemoryError\u001b[0m                               Traceback (most recent call last)",
      "Cell \u001b[1;32mIn[4], line 36\u001b[0m\n\u001b[0;32m     33\u001b[0m     model\u001b[38;5;241m.\u001b[39msave(\u001b[38;5;124mr\u001b[39m\u001b[38;5;124m'\u001b[39m\u001b[38;5;124mC:\u001b[39m\u001b[38;5;124m\\\u001b[39m\u001b[38;5;124mUsers\u001b[39m\u001b[38;5;124m\\\u001b[39m\u001b[38;5;124mFlavio Ruvalcaba\u001b[39m\u001b[38;5;124m\\\u001b[39m\u001b[38;5;124mDocuments\u001b[39m\u001b[38;5;124m\\\u001b[39m\u001b[38;5;124mEscuela\u001b[39m\u001b[38;5;124m\\\u001b[39m\u001b[38;5;124mUniversidad\u001b[39m\u001b[38;5;124m\\\u001b[39m\u001b[38;5;124m8Semestre\u001b[39m\u001b[38;5;124m\\\u001b[39m\u001b[38;5;124mPlagiarismDetector\u001b[39m\u001b[38;5;124m\\\u001b[39m\u001b[38;5;124mPreprocessing\u001b[39m\u001b[38;5;124m\\\u001b[39m\u001b[38;5;124mRandomForest/doc2vec_model.d2v\u001b[39m\u001b[38;5;124m'\u001b[39m)\n\u001b[0;32m     35\u001b[0m \u001b[38;5;28;01mif\u001b[39;00m \u001b[38;5;18m__name__\u001b[39m \u001b[38;5;241m==\u001b[39m \u001b[38;5;124m\"\u001b[39m\u001b[38;5;124m__main__\u001b[39m\u001b[38;5;124m\"\u001b[39m:\n\u001b[1;32m---> 36\u001b[0m     \u001b[43mpreprocess_data\u001b[49m\u001b[43m(\u001b[49m\u001b[43m)\u001b[49m\n",
      "Cell \u001b[1;32mIn[4], line 9\u001b[0m, in \u001b[0;36mpreprocess_data\u001b[1;34m()\u001b[0m\n\u001b[0;32m      6\u001b[0m train_plagio_path \u001b[38;5;241m=\u001b[39m \u001b[38;5;124mr\u001b[39m\u001b[38;5;124m\"\u001b[39m\u001b[38;5;124mC:\u001b[39m\u001b[38;5;124m\\\u001b[39m\u001b[38;5;124mUsers\u001b[39m\u001b[38;5;124m\\\u001b[39m\u001b[38;5;124mFlavio Ruvalcaba\u001b[39m\u001b[38;5;124m\\\u001b[39m\u001b[38;5;124mDocuments\u001b[39m\u001b[38;5;124m\\\u001b[39m\u001b[38;5;124mEscuela\u001b[39m\u001b[38;5;124m\\\u001b[39m\u001b[38;5;124mUniversidad\u001b[39m\u001b[38;5;124m\\\u001b[39m\u001b[38;5;124m8Semestre\u001b[39m\u001b[38;5;124m\\\u001b[39m\u001b[38;5;124mPlagiarismDetector\u001b[39m\u001b[38;5;124m\\\u001b[39m\u001b[38;5;124mfinalDataset\u001b[39m\u001b[38;5;124m\\\u001b[39m\u001b[38;5;124msplit\u001b[39m\u001b[38;5;124m\\\u001b[39m\u001b[38;5;124mtrain\u001b[39m\u001b[38;5;124m\\\u001b[39m\u001b[38;5;124mplagio\u001b[39m\u001b[38;5;124m\"\u001b[39m\n\u001b[0;32m      8\u001b[0m \u001b[38;5;66;03m# Cargar datos de entrenamiento y prueba\u001b[39;00m\n\u001b[1;32m----> 9\u001b[0m train_files_noplag, train_labels_noplag, _ \u001b[38;5;241m=\u001b[39m \u001b[43mload_files_from_directory\u001b[49m\u001b[43m(\u001b[49m\u001b[43mtrain_noplag_path\u001b[49m\u001b[43m)\u001b[49m\n\u001b[0;32m     10\u001b[0m train_files_plagio, train_labels_plagio, _ \u001b[38;5;241m=\u001b[39m load_files_from_directory(train_plagio_path)\n\u001b[0;32m     11\u001b[0m test_files_noplag, test_labels_noplag, test_filenames_noplag \u001b[38;5;241m=\u001b[39m load_files_from_directory(test_noplag_path)\n",
      "Cell \u001b[1;32mIn[3], line 8\u001b[0m, in \u001b[0;36mload_files_from_directory\u001b[1;34m(directory)\u001b[0m\n\u001b[0;32m      6\u001b[0m \u001b[38;5;28;01mfor\u001b[39;00m filename \u001b[38;5;129;01min\u001b[39;00m filenames:\n\u001b[0;32m      7\u001b[0m     \u001b[38;5;28;01mwith\u001b[39;00m \u001b[38;5;28mopen\u001b[39m(os\u001b[38;5;241m.\u001b[39mpath\u001b[38;5;241m.\u001b[39mjoin(root, filename), \u001b[38;5;124m'\u001b[39m\u001b[38;5;124mr\u001b[39m\u001b[38;5;124m'\u001b[39m, encoding\u001b[38;5;241m=\u001b[39m\u001b[38;5;124m'\u001b[39m\u001b[38;5;124mutf-8\u001b[39m\u001b[38;5;124m'\u001b[39m) \u001b[38;5;28;01mas\u001b[39;00m f:\n\u001b[1;32m----> 8\u001b[0m         code \u001b[38;5;241m=\u001b[39m f\u001b[38;5;241m.\u001b[39mread()\n\u001b[0;32m      9\u001b[0m         \u001b[38;5;66;03m# Eliminar comentarios\u001b[39;00m\n\u001b[0;32m     10\u001b[0m         code \u001b[38;5;241m=\u001b[39m re\u001b[38;5;241m.\u001b[39msub(\u001b[38;5;124mr\u001b[39m\u001b[38;5;124m'\u001b[39m\u001b[38;5;124m//.*|/\u001b[39m\u001b[38;5;124m\\\u001b[39m\u001b[38;5;124m*[\u001b[39m\u001b[38;5;124m\\\u001b[39m\u001b[38;5;124ms\u001b[39m\u001b[38;5;124m\\\u001b[39m\u001b[38;5;124mS]*?\u001b[39m\u001b[38;5;124m\\\u001b[39m\u001b[38;5;124m*/\u001b[39m\u001b[38;5;124m'\u001b[39m, \u001b[38;5;124m'\u001b[39m\u001b[38;5;124m'\u001b[39m, code)\n",
      "\u001b[1;31mMemoryError\u001b[0m: "
     ]
    }
   ],
   "source": [
    "def preprocess_data():\n",
    "    # Paths de las carpetas de datos\n",
    "    test_noplag_path = r\"C:\\Users\\Flavio Ruvalcaba\\Documents\\Escuela\\Universidad\\8Semestre\\PlagiarismDetector\\finalDataset\\split\\test\\noplag\"\n",
    "    test_plagio_path = r\"C:\\Users\\Flavio Ruvalcaba\\Documents\\Escuela\\Universidad\\8Semestre\\PlagiarismDetector\\finalDataset\\split\\test\\plagio\"\n",
    "    train_noplag_path = r\"C:\\Users\\Flavio Ruvalcaba\\Documents\\Escuela\\Universidad\\8Semestre\\PlagiarismDetector\\finalDataset\\split\\train\\noplag\"\n",
    "    train_plagio_path = r\"C:\\Users\\Flavio Ruvalcaba\\Documents\\Escuela\\Universidad\\8Semestre\\PlagiarismDetector\\finalDataset\\split\\train\\plagio\"\n",
    "\n",
    "    # Cargar datos de entrenamiento y prueba\n",
    "    train_files_noplag, train_labels_noplag, _ = load_files_from_directory(train_noplag_path)\n",
    "    train_files_plagio, train_labels_plagio, _ = load_files_from_directory(train_plagio_path)\n",
    "    test_files_noplag, test_labels_noplag, test_filenames_noplag = load_files_from_directory(test_noplag_path)\n",
    "    test_files_plagio, test_labels_plagio, test_filenames_plagio = load_files_from_directory(test_plagio_path)\n",
    "\n",
    "    # Combinar datos de entrenamiento y prueba\n",
    "    train_files = train_files_noplag + train_files_plagio\n",
    "    train_labels = train_labels_noplag + train_labels_plagio\n",
    "    test_files = test_files_noplag + test_files_plagio\n",
    "    test_labels = test_labels_noplag + test_labels_plagio\n",
    "    test_filenames = test_filenames_noplag + test_filenames_plagio\n",
    "\n",
    "    # Vectorización con Doc2Vec\n",
    "    tagged_data = [TaggedDocument(words=file.split(), tags=[str(i)]) for i, file in enumerate(train_files)]\n",
    "    model = Doc2Vec(vector_size=100, window=5, min_count=1, workers=4, epochs=100)\n",
    "    model.build_vocab(tagged_data)\n",
    "    model.train(tagged_data, total_examples=model.corpus_count, epochs=model.epochs)\n",
    "\n",
    "    # Transformar datos de entrenamiento y prueba\n",
    "    X_train = [model.infer_vector(file.split()) for file in train_files]\n",
    "    X_test = [model.infer_vector(file.split()) for file in test_files]\n",
    "\n",
    "    # Guardar los datos preprocesados, el modelo Doc2Vec y las etiquetas\n",
    "    joblib.dump((X_train, train_labels, X_test, test_labels), r'C:\\Users\\Flavio Ruvalcaba\\Documents\\Escuela\\Universidad\\8Semestre\\PlagiarismDetector\\Preprocessing\\RandomForest\\preprocessed_data_doc2vec.pkl')\n",
    "    model.save(r'C:\\Users\\Flavio Ruvalcaba\\Documents\\Escuela\\Universidad\\8Semestre\\PlagiarismDetector\\Preprocessing\\RandomForest/doc2vec_model.d2v')\n",
    "\n",
    "if __name__ == \"__main__\":\n",
    "    preprocess_data()\n"
   ]
  }
 ],
 "metadata": {
  "kernelspec": {
   "display_name": "Python 3",
   "language": "python",
   "name": "python3"
  },
  "language_info": {
   "codemirror_mode": {
    "name": "ipython",
    "version": 3
   },
   "file_extension": ".py",
   "mimetype": "text/x-python",
   "name": "python",
   "nbconvert_exporter": "python",
   "pygments_lexer": "ipython3",
   "version": "3.11.9"
  }
 },
 "nbformat": 4,
 "nbformat_minor": 2
}
