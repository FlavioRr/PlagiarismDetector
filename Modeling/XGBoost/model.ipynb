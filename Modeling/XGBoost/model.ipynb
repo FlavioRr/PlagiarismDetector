{
 "cells": [
  {
   "cell_type": "code",
   "execution_count": 1,
   "metadata": {},
   "outputs": [],
   "source": [
    "import javalang\n",
    "import xgboost as xgb\n",
    "from sklearn.feature_extraction.text import TfidfVectorizer"
   ]
  },
  {
   "cell_type": "code",
   "execution_count": 2,
   "metadata": {},
   "outputs": [],
   "source": [
    "def extract_tokens(file_content):\n",
    "    tokens = list(javalang.tokenizer.tokenize(file_content))\n",
    "    token_types = [type(token).__name__ for token in tokens]\n",
    "    return token_types"
   ]
  },
  {
   "cell_type": "code",
   "execution_count": 3,
   "metadata": {},
   "outputs": [],
   "source": [
    "# Read and tokenize files\n",
    "def read_and_tokenize(files):\n",
    "    token_lists = []\n",
    "    for file in files:\n",
    "        with open(file, 'r') as f:\n",
    "            content = f.read()\n",
    "            tokens = extract_tokens(content)\n",
    "            token_lists.append(tokens)\n",
    "    return token_lists"
   ]
  },
  {
   "cell_type": "code",
   "execution_count": 4,
   "metadata": {},
   "outputs": [
    {
     "ename": "NameError",
     "evalue": "name 'train_files' is not defined",
     "output_type": "error",
     "traceback": [
      "\u001b[1;31m---------------------------------------------------------------------------\u001b[0m",
      "\u001b[1;31mNameError\u001b[0m                                 Traceback (most recent call last)",
      "Cell \u001b[1;32mIn[4], line 1\u001b[0m\n\u001b[1;32m----> 1\u001b[0m train_tokens \u001b[38;5;241m=\u001b[39m read_and_tokenize(\u001b[43mtrain_files\u001b[49m)\n\u001b[0;32m      2\u001b[0m test_tokens \u001b[38;5;241m=\u001b[39m read_and_tokenize(test_files)\n",
      "\u001b[1;31mNameError\u001b[0m: name 'train_files' is not defined"
     ]
    }
   ],
   "source": [
    "\n",
    "train_tokens = read_and_tokenize(train_files)\n",
    "test_tokens = read_and_tokenize(test_files)"
   ]
  }
 ],
 "metadata": {
  "kernelspec": {
   "display_name": "Python 3",
   "language": "python",
   "name": "python3"
  },
  "language_info": {
   "codemirror_mode": {
    "name": "ipython",
    "version": 3
   },
   "file_extension": ".py",
   "mimetype": "text/x-python",
   "name": "python",
   "nbconvert_exporter": "python",
   "pygments_lexer": "ipython3",
   "version": "3.11.9"
  }
 },
 "nbformat": 4,
 "nbformat_minor": 2
}
