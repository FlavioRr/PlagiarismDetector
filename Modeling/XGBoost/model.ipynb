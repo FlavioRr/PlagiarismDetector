{
 "cells": [
  {
   "cell_type": "code",
   "execution_count": 28,
   "metadata": {},
   "outputs": [],
   "source": [
    "import os\n",
    "import javalang\n",
    "from sklearn.feature_extraction.text import TfidfVectorizer\n",
    "from imblearn.over_sampling import SMOTE\n",
    "import xgboost as xgb\n",
    "from sklearn.metrics import accuracy_score, precision_score, recall_score, f1_score\n"
   ]
  },
  {
   "cell_type": "code",
   "execution_count": 29,
   "metadata": {},
   "outputs": [],
   "source": [
    "def extract_ast_features(file_content):\n",
    "    tree = javalang.parse.parse(file_content)\n",
    "    token_list = []\n",
    "    for path, node in tree:\n",
    "        token_list.append(type(node).__name__)\n",
    "    return token_list"
   ]
  },
  {
   "cell_type": "code",
   "execution_count": 30,
   "metadata": {},
   "outputs": [],
   "source": [
    "def read_and_tokenize(directory):\n",
    "    token_lists = []\n",
    "    for filename in os.listdir(directory):\n",
    "        if filename.endswith('.java'):\n",
    "            filepath = os.path.join(directory, filename)\n",
    "            with open(filepath, 'r') as f:\n",
    "                content = f.read()\n",
    "                tokens = extract_ast_features(content)\n",
    "                token_lists.append(tokens)\n",
    "    return token_lists"
   ]
  },
  {
   "cell_type": "code",
   "execution_count": 31,
   "metadata": {},
   "outputs": [],
   "source": [
    "# Paths to your training and test directories\n",
    "train_noplag_dir = r'C:\\Users\\droid\\Documents\\Aplicaciones_Avanzadas\\Proyecto\\PlagiarismDetector\\finalDataset\\split\\train\\noplag'\n",
    "train_plagio_dir = r'C:\\Users\\droid\\Documents\\Aplicaciones_Avanzadas\\Proyecto\\PlagiarismDetector\\finalDataset\\split\\train\\plagio'\n",
    "test_noplag_dir = r'C:\\Users\\droid\\Documents\\Aplicaciones_Avanzadas\\Proyecto\\PlagiarismDetector\\finalDataset\\split\\test\\noplag'\n",
    "test_plagio_dir = r'C:\\Users\\droid\\Documents\\Aplicaciones_Avanzadas\\Proyecto\\PlagiarismDetector\\finalDataset\\split\\test\\plagio'"
   ]
  },
  {
   "cell_type": "code",
   "execution_count": 32,
   "metadata": {},
   "outputs": [],
   "source": [
    "# Read and tokenize all .java files in the directories\n",
    "train_noplag_tokens = read_and_tokenize(train_noplag_dir)\n",
    "train_plagio_tokens = read_and_tokenize(train_plagio_dir)\n",
    "test_noplag_tokens = read_and_tokenize(test_noplag_dir)\n",
    "test_plagio_tokens = read_and_tokenize(test_plagio_dir)"
   ]
  },
  {
   "cell_type": "code",
   "execution_count": 33,
   "metadata": {},
   "outputs": [],
   "source": [
    "# Combine the tokens and create labels\n",
    "train_tokens = train_noplag_tokens + train_plagio_tokens\n",
    "train_labels = [0] * len(train_noplag_tokens) + [1] * len(train_plagio_tokens)\n",
    "\n",
    "test_tokens = test_noplag_tokens + test_plagio_tokens\n",
    "test_labels = [0] * len(test_noplag_tokens) + [1] * len(test_plagio_tokens)"
   ]
  },
  {
   "cell_type": "code",
   "execution_count": 34,
   "metadata": {},
   "outputs": [],
   "source": [
    "# Vectorize the training tokens\n",
    "vectorizer = TfidfVectorizer(analyzer=lambda x: x)  # Pass the tokens directly\n",
    "X_train = vectorizer.fit_transform(train_tokens)\n",
    "\n",
    "# Use the fitted vectorizer to transform the test tokens\n",
    "X_test = vectorizer.transform(test_tokens)"
   ]
  },
  {
   "cell_type": "code",
   "execution_count": 35,
   "metadata": {},
   "outputs": [],
   "source": [
    "# Apply SMOTE to balance the training data\n",
    "smote = SMOTE(random_state=42)\n",
    "X_train_res, y_train_res = smote.fit_resample(X_train, train_labels)"
   ]
  },
  {
   "cell_type": "code",
   "execution_count": 36,
   "metadata": {},
   "outputs": [],
   "source": [
    "# Convert to DMatrix for XGBoost\n",
    "dtrain = xgb.DMatrix(X_train_res, label=y_train_res)\n",
    "dtest = xgb.DMatrix(X_test, label=test_labels)"
   ]
  },
  {
   "cell_type": "code",
   "execution_count": 37,
   "metadata": {},
   "outputs": [],
   "source": [
    "# Train the XGBoost model\n",
    "params = {\n",
    "    'max_depth': 15,\n",
    "    'eta': 0.3,\n",
    "    'objective': 'binary:logistic',\n",
    "    'scale_pos_weight': len(train_noplag_tokens) / len(train_plagio_tokens)  # Adjusting for imbalance\n",
    "}\n",
    "num_round = 100"
   ]
  },
  {
   "cell_type": "code",
   "execution_count": 38,
   "metadata": {},
   "outputs": [],
   "source": [
    "bst = xgb.train(params, dtrain, num_round)"
   ]
  },
  {
   "cell_type": "code",
   "execution_count": 39,
   "metadata": {},
   "outputs": [],
   "source": [
    "# Predict and evaluate\n",
    "preds = bst.predict(dtest)\n",
    "predictions = [1 if pred > 0.5 else 0 for pred in preds]"
   ]
  },
  {
   "cell_type": "code",
   "execution_count": 40,
   "metadata": {},
   "outputs": [
    {
     "name": "stdout",
     "output_type": "stream",
     "text": [
      "Accuracy: 0.6682692307692307\n",
      "Precision: 0.7538461538461538\n",
      "Recall: 0.725925925925926\n"
     ]
    }
   ],
   "source": [
    "accuracy = accuracy_score(test_labels, predictions)\n",
    "precision = precision_score(test_labels, predictions)\n",
    "recall = recall_score(test_labels, predictions)\n",
    "f1 = f1_score(test_labels, predictions)\n",
    "\n",
    "print(f'Accuracy: {accuracy}')\n",
    "print(f'Precision: {precision}')\n",
    "print(f'Recall: {recall}')"
   ]
  }
 ],
 "metadata": {
  "kernelspec": {
   "display_name": "Python 3",
   "language": "python",
   "name": "python3"
  },
  "language_info": {
   "codemirror_mode": {
    "name": "ipython",
    "version": 3
   },
   "file_extension": ".py",
   "mimetype": "text/x-python",
   "name": "python",
   "nbconvert_exporter": "python",
   "pygments_lexer": "ipython3",
   "version": "3.12.3"
  }
 },
 "nbformat": 4,
 "nbformat_minor": 2
}
