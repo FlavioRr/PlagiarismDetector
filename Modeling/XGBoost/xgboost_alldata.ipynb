{
 "cells": [
  {
   "cell_type": "code",
   "execution_count": 1,
   "metadata": {},
   "outputs": [
    {
     "name": "stdout",
     "output_type": "stream",
     "text": [
      "Model training complete.\n"
     ]
    }
   ],
   "source": [
    "import pandas as pd\n",
    "from sklearn.utils import resample\n",
    "from sklearn.model_selection import train_test_split\n",
    "from sklearn.feature_extraction.text import CountVectorizer\n",
    "import xgboost as xgb\n",
    "import os"
   ]
  },
  {
   "cell_type": "code",
   "execution_count": null,
   "metadata": {},
   "outputs": [],
   "source": [
    "# Define paths\n",
    "data_path = r'C:\\Users\\droid\\Documents\\Aplicaciones_Avanzadas\\Proyecto\\PlagiarismDetector\\finalDataset\\javafiles'\n",
    "labels_path = r'C:\\Users\\droid\\Documents\\Aplicaciones_Avanzadas\\Proyecto\\PlagiarismDetector\\finalDataset\\unify_labels\\javafiles_labels.csv'"
   ]
  },
  {
   "cell_type": "code",
   "execution_count": null,
   "metadata": {},
   "outputs": [],
   "source": [
    "# Load the labels\n",
    "df_labels = pd.read_csv(labels_path)"
   ]
  },
  {
   "cell_type": "code",
   "execution_count": null,
   "metadata": {},
   "outputs": [],
   "source": [
    "# Balance the dataset\n",
    "df_majority = df_labels[df_labels.veredict == 0]\n",
    "df_minority = df_labels[df_labels.veredict == 1]"
   ]
  },
  {
   "cell_type": "code",
   "execution_count": null,
   "metadata": {},
   "outputs": [],
   "source": [
    "# Upsample minority class\n",
    "df_minority_upsampled = resample(df_minority, \n",
    "                                 replace=True,     \n",
    "                                 n_samples=len(df_majority),    \n",
    "                                 random_state=123)"
   ]
  },
  {
   "cell_type": "code",
   "execution_count": null,
   "metadata": {},
   "outputs": [],
   "source": [
    "# Combine majority class with upsampled minority class\n",
    "df_balanced = pd.concat([df_majority, df_minority_upsampled])"
   ]
  },
  {
   "cell_type": "code",
   "execution_count": null,
   "metadata": {},
   "outputs": [],
   "source": [
    "# Shuffle the dataset\n",
    "df_balanced = df_balanced.sample(frac=1, random_state=42).reset_index(drop=True)"
   ]
  },
  {
   "cell_type": "code",
   "execution_count": null,
   "metadata": {},
   "outputs": [],
   "source": [
    "# Read Java files, preprocess and extract features\n",
    "def read_java_files(sub1, sub2):\n",
    "    # Build paths to java files\n",
    "    path1 = os.path.join(data_path, f\"{sub1}.java\")\n",
    "    path2 = os.path.join(data_path, f\"{sub2}.java\")\n",
    "    \n",
    "    try:\n",
    "        with open(path1, 'r', encoding='utf-8') as file:\n",
    "            content1 = file.read()\n",
    "        with open(path2, 'r', encoding='utf-8') as file:\n",
    "            content2 = file.read()\n",
    "    except FileNotFoundError:\n",
    "        content1, content2 = \"\", \"\"\n",
    "    \n",
    "    return content1 + \" \" + content2"
   ]
  },
  {
   "cell_type": "code",
   "execution_count": null,
   "metadata": {},
   "outputs": [],
   "source": [
    "# Apply the function to read Java files\n",
    "df_balanced['text'] = df_balanced.apply(lambda x: read_java_files(x['sub1'], x['sub2']), axis=1)"
   ]
  },
  {
   "cell_type": "code",
   "execution_count": null,
   "metadata": {},
   "outputs": [],
   "source": [
    "# Feature extraction with CountVectorizer\n",
    "vectorizer = CountVectorizer(max_features=1000)  # Adjust number of features\n",
    "X = vectorizer.fit_transform(df_balanced['text']).toarray()\n",
    "y = df_balanced['veredict'].values"
   ]
  },
  {
   "cell_type": "code",
   "execution_count": null,
   "metadata": {},
   "outputs": [],
   "source": [
    "# Split the data into training and testing sets\n",
    "X_train, X_test, y_train, y_test = train_test_split(X, y, test_size=0.30, random_state=42)"
   ]
  },
  {
   "cell_type": "code",
   "execution_count": null,
   "metadata": {},
   "outputs": [],
   "source": [
    "# Initialize XGBoost model\n",
    "xgb_model = xgb.XGBClassifier(use_label_encoder=False, eval_metric='logloss')"
   ]
  },
  {
   "cell_type": "code",
   "execution_count": null,
   "metadata": {},
   "outputs": [],
   "source": [
    "# Train the model\n",
    "xgb_model.fit(X_train, y_train)"
   ]
  },
  {
   "cell_type": "code",
   "execution_count": null,
   "metadata": {},
   "outputs": [],
   "source": [
    "# Model is now trained and can be used for predictions or evaluation\n",
    "print(\"Model training complete.\")"
   ]
  },
  {
   "cell_type": "code",
   "execution_count": 2,
   "metadata": {},
   "outputs": [],
   "source": [
    "import pandas as pd\n",
    "import numpy as np\n",
    "from sklearn.metrics import accuracy_score, log_loss, confusion_matrix\n",
    "import xgboost as xgb\n",
    "from sklearn.feature_extraction.text import CountVectorizer\n",
    "import os\n",
    "\n",
    "# Load trained model and vectorizer\n",
    "xgb_model = xgb.XGBClassifier()  # Assuming model is loaded\n",
    "vectorizer = CountVectorizer()  # Assuming vectorizer is loaded\n",
    "\n",
    "# Define function to evaluate the model\n",
    "def evaluate_model(X_train, y_train, X_test, y_test):\n",
    "    # Predictions on training set\n",
    "    train_preds = xgb_model.predict(X_train)\n",
    "    train_preds_proba = xgb_model.predict_proba(X_train)[:, 1]\n",
    "    train_accuracy = accuracy_score(y_train, train_preds)\n",
    "    train_loss = log_loss(y_train, train_preds_proba)\n",
    "    \n",
    "    # Predictions on test set\n",
    "    test_preds = xgb_model.predict(X_test)\n",
    "    test_preds_proba = xgb_model.predict_proba(X_test)[:, 1]\n",
    "    test_accuracy = accuracy_score(y_test, test_preds)\n",
    "    test_loss = log_loss(y_test, test_preds_proba)\n",
    "    \n",
    "    # Confusion matrix\n",
    "    cm = confusion_matrix(y_test, test_preds)\n",
    "    \n",
    "    print(\"Training Accuracy:\", train_accuracy)\n",
    "    print(\"Training Loss:\", train_loss)\n",
    "    print(\"Test Accuracy:\", test_accuracy)\n",
    "    print(\"Test Loss:\", test_loss)\n",
    "    print(\"Confusion Matrix:\\n\", cm)\n",
    "\n",
    "# Example of using evaluate_model function\n",
    "# evaluate_model(X_train, y_train, X_test, y_test)  # Uncomment and use actual data\n",
    "\n",
    "# Function to test the model with new Java files\n",
    "def test_new_java_files(file_path1, file_path2):\n",
    "    # Read the Java files\n",
    "    try:\n",
    "        with open(file_path1, 'r', encoding='utf-8') as file:\n",
    "            content1 = file.read()\n",
    "        with open(file_path2, 'r', encoding='utf-8') as file:\n",
    "            content2 = file.read()\n",
    "        content = content1 + \" \" + content2\n",
    "    except FileNotFoundError:\n",
    "        return \"File not found.\"\n",
    "    \n",
    "    # Process the content through the vectorizer\n",
    "    content_vector = vectorizer.transform([content]).toarray()\n",
    "    \n",
    "    # Make prediction\n",
    "    prediction = xgb_model.predict(content_vector)\n",
    "    prediction_proba = xgb_model.predict_proba(content_vector)[0, 1]\n",
    "    \n",
    "    return f\"Prediction: {'Plagiarism' if prediction[0] == 1 else 'No Plagiarism'}, Probability: {prediction_proba:.4f}\"\n",
    "\n",
    "# Example of testing new Java files\n",
    "# result = test_new_java_files('path_to_file1.java', 'path_to_file2.java')\n",
    "# print(result)"
   ]
  }
 ],
 "metadata": {
  "kernelspec": {
   "display_name": "plagiarismDetector",
   "language": "python",
   "name": "python3"
  },
  "language_info": {
   "codemirror_mode": {
    "name": "ipython",
    "version": 3
   },
   "file_extension": ".py",
   "mimetype": "text/x-python",
   "name": "python",
   "nbconvert_exporter": "python",
   "pygments_lexer": "ipython3",
   "version": "3.12.3"
  }
 },
 "nbformat": 4,
 "nbformat_minor": 2
}
